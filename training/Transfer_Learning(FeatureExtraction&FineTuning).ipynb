{
  "nbformat": 4,
  "nbformat_minor": 0,
  "metadata": {
    "colab": {
      "provenance": [],
      "collapsed_sections": []
    },
    "kernelspec": {
      "name": "python3",
      "display_name": "Python 3"
    },
    "language_info": {
      "name": "python"
    },
    "accelerator": "GPU",
    "gpuClass": "standard"
  },
  "cells": [
    {
      "cell_type": "markdown",
      "source": [
        "### We will be using Feature Extraction method for transfer learning"
      ],
      "metadata": {
        "id": "wkr_jZyjEsjX"
      }
    },
    {
      "cell_type": "code",
      "execution_count": 1,
      "metadata": {
        "id": "5B_H3KYCDbBQ"
      },
      "outputs": [],
      "source": [
        "#  Instantiating the VGG16 convolutional base\n",
        "from keras.applications import VGG16"
      ]
    },
    {
      "cell_type": "code",
      "source": [
        "conv_base = VGG16(weights=\"imagenet\",\n",
        "                  include_top=False,\n",
        "                  input_shape=(256,256,3))"
      ],
      "metadata": {
        "id": "t_rYeBAOFkPT",
        "colab": {
          "base_uri": "https://localhost:8080/"
        },
        "outputId": "0b716cca-1086-494f-9d48-22748c4542d8"
      },
      "execution_count": 2,
      "outputs": [
        {
          "output_type": "stream",
          "name": "stdout",
          "text": [
            "Downloading data from https://storage.googleapis.com/tensorflow/keras-applications/vgg16/vgg16_weights_tf_dim_ordering_tf_kernels_notop.h5\n",
            "58889256/58889256 [==============================] - 2s 0us/step\n"
          ]
        }
      ]
    },
    {
      "cell_type": "code",
      "source": [
        "conv_base.summary()"
      ],
      "metadata": {
        "colab": {
          "base_uri": "https://localhost:8080/"
        },
        "id": "cMBiq9ZAGAaY",
        "outputId": "5d5dd2f6-61e9-4fa9-e69a-59a5f181c260"
      },
      "execution_count": 3,
      "outputs": [
        {
          "output_type": "stream",
          "name": "stdout",
          "text": [
            "Model: \"vgg16\"\n",
            "_________________________________________________________________\n",
            " Layer (type)                Output Shape              Param #   \n",
            "=================================================================\n",
            " input_1 (InputLayer)        [(None, 256, 256, 3)]     0         \n",
            "                                                                 \n",
            " block1_conv1 (Conv2D)       (None, 256, 256, 64)      1792      \n",
            "                                                                 \n",
            " block1_conv2 (Conv2D)       (None, 256, 256, 64)      36928     \n",
            "                                                                 \n",
            " block1_pool (MaxPooling2D)  (None, 128, 128, 64)      0         \n",
            "                                                                 \n",
            " block2_conv1 (Conv2D)       (None, 128, 128, 128)     73856     \n",
            "                                                                 \n",
            " block2_conv2 (Conv2D)       (None, 128, 128, 128)     147584    \n",
            "                                                                 \n",
            " block2_pool (MaxPooling2D)  (None, 64, 64, 128)       0         \n",
            "                                                                 \n",
            " block3_conv1 (Conv2D)       (None, 64, 64, 256)       295168    \n",
            "                                                                 \n",
            " block3_conv2 (Conv2D)       (None, 64, 64, 256)       590080    \n",
            "                                                                 \n",
            " block3_conv3 (Conv2D)       (None, 64, 64, 256)       590080    \n",
            "                                                                 \n",
            " block3_pool (MaxPooling2D)  (None, 32, 32, 256)       0         \n",
            "                                                                 \n",
            " block4_conv1 (Conv2D)       (None, 32, 32, 512)       1180160   \n",
            "                                                                 \n",
            " block4_conv2 (Conv2D)       (None, 32, 32, 512)       2359808   \n",
            "                                                                 \n",
            " block4_conv3 (Conv2D)       (None, 32, 32, 512)       2359808   \n",
            "                                                                 \n",
            " block4_pool (MaxPooling2D)  (None, 16, 16, 512)       0         \n",
            "                                                                 \n",
            " block5_conv1 (Conv2D)       (None, 16, 16, 512)       2359808   \n",
            "                                                                 \n",
            " block5_conv2 (Conv2D)       (None, 16, 16, 512)       2359808   \n",
            "                                                                 \n",
            " block5_conv3 (Conv2D)       (None, 16, 16, 512)       2359808   \n",
            "                                                                 \n",
            " block5_pool (MaxPooling2D)  (None, 8, 8, 512)         0         \n",
            "                                                                 \n",
            "=================================================================\n",
            "Total params: 14,714,688\n",
            "Trainable params: 14,714,688\n",
            "Non-trainable params: 0\n",
            "_________________________________________________________________\n"
          ]
        }
      ]
    },
    {
      "cell_type": "markdown",
      "source": [
        "- The final feature map has shape (8, 8, 512). That's the feature on top of which we will stick a densely connected classifier."
      ],
      "metadata": {
        "id": "0WBJhCEJJuLB"
      }
    },
    {
      "cell_type": "markdown",
      "source": [
        "### At this point, there are two ways:\n",
        "- Running the convolutional base over our dataset, recording its output to a Numpy array on disk, and then using this data as input to a standalone, densely connected classifier.\n",
        "\n",
        "  - This solution is fast and cheap to run, because it only requires running the convolutional base once for every input image, and the convolutional base is by far the most expensive part of the pipeline.\n",
        "  - But for the same reason, this technique won't allow us to use data augmentation.\n",
        "\n",
        "- Extending the model we have (conv_base) by adding Dense layers on top, and running the whole thing end to end on the input data.\n",
        "   - This will allow us to use data augmentation because every input image goes through the convolutional base every time it is seen by the model.\n",
        "   - But for the same reason this technique is far more expensive that the first."
      ],
      "metadata": {
        "id": "9Xa8pi33G8cG"
      }
    },
    {
      "cell_type": "code",
      "source": [],
      "metadata": {
        "id": "ejqXl4urGEqy"
      },
      "execution_count": null,
      "outputs": []
    },
    {
      "cell_type": "markdown",
      "source": [
        "### Fast Feature Extraction Without Data Augmentation"
      ],
      "metadata": {
        "id": "UAMv6ZEzLC4K"
      }
    },
    {
      "cell_type": "code",
      "source": [
        "import os\n",
        "import numpy as np\n",
        "from keras_preprocessing.image import ImageDataGenerator\n",
        "\n",
        "base_dir = \"/content/drive/MyDrive/Potato-Disease-Classification/training/PlantVillageDir\"\n",
        "train_dir = os.path.join(base_dir, \"train\")\n",
        "validation_dir = os.path.join(base_dir, \"validation\")\n",
        "test_dir = os.path.join(base_dir, \"test\")\n",
        "\n",
        "datagen = ImageDataGenerator(rescale=1./255)\n",
        "batch_size = 20\n",
        "\n",
        "def extract_features(directory, sample_count):\n",
        "  features = np.zeros(shape=(sample_count, 8, 8, 512))\n",
        "  labels = np.zeros(shape=(sample_count))\n",
        "  generator = datagen.flow_from_directory(\n",
        "      directory,\n",
        "      target_size=(256,256),\n",
        "      batch_size=batch_size,\n",
        "      classes = ['Potato___Early_blight', 'Potato___healthy', 'Potato___Late_blight'],\n",
        "      class_mode = 'sparse')\n",
        "  \n",
        "  i = 0\n",
        "  for inputs_batch, labels_batch in generator:\n",
        "    features_batch = conv_base.predict(inputs_batch)\n",
        "    features[i * batch_size : (i + 1) * batch_size] = features_batch\n",
        "    labels[i * batch_size : (i + 1) * batch_size] = labels_batch\n",
        "    i += 1\n",
        "    if i * batch_size >= sample_count:\n",
        "      break\n",
        "\n",
        "  return features, labels"
      ],
      "metadata": {
        "id": "7_SXqdurvl0q"
      },
      "execution_count": null,
      "outputs": []
    },
    {
      "cell_type": "code",
      "source": [
        "train_features, train_labels = extract_features(train_dir, 1710)"
      ],
      "metadata": {
        "id": "vlWz5_UFy7kU",
        "colab": {
          "base_uri": "https://localhost:8080/"
        },
        "outputId": "9fb02e39-fc08-474d-f0de-4a87f848f878"
      },
      "execution_count": null,
      "outputs": [
        {
          "output_type": "stream",
          "name": "stdout",
          "text": [
            "Found 1710 images belonging to 3 classes.\n",
            "1/1 [==============================] - 0s 31ms/step\n",
            "1/1 [==============================] - 0s 32ms/step\n",
            "1/1 [==============================] - 0s 32ms/step\n",
            "1/1 [==============================] - 0s 29ms/step\n",
            "1/1 [==============================] - 0s 28ms/step\n",
            "1/1 [==============================] - 0s 27ms/step\n",
            "1/1 [==============================] - 0s 26ms/step\n",
            "1/1 [==============================] - 0s 27ms/step\n",
            "1/1 [==============================] - 0s 30ms/step\n",
            "1/1 [==============================] - 0s 28ms/step\n",
            "1/1 [==============================] - 0s 28ms/step\n",
            "1/1 [==============================] - 0s 28ms/step\n",
            "1/1 [==============================] - 0s 28ms/step\n",
            "1/1 [==============================] - 0s 31ms/step\n",
            "1/1 [==============================] - 0s 25ms/step\n",
            "1/1 [==============================] - 0s 26ms/step\n",
            "1/1 [==============================] - 0s 25ms/step\n",
            "1/1 [==============================] - 0s 28ms/step\n",
            "1/1 [==============================] - 0s 25ms/step\n",
            "1/1 [==============================] - 0s 28ms/step\n",
            "1/1 [==============================] - 0s 27ms/step\n",
            "1/1 [==============================] - 0s 25ms/step\n",
            "1/1 [==============================] - 0s 24ms/step\n",
            "1/1 [==============================] - 0s 25ms/step\n",
            "1/1 [==============================] - 0s 30ms/step\n",
            "1/1 [==============================] - 0s 26ms/step\n",
            "1/1 [==============================] - 0s 24ms/step\n",
            "1/1 [==============================] - 0s 29ms/step\n",
            "1/1 [==============================] - 0s 27ms/step\n",
            "1/1 [==============================] - 0s 24ms/step\n",
            "1/1 [==============================] - 0s 26ms/step\n",
            "1/1 [==============================] - 0s 25ms/step\n",
            "1/1 [==============================] - 0s 25ms/step\n",
            "1/1 [==============================] - 0s 28ms/step\n",
            "1/1 [==============================] - 0s 27ms/step\n",
            "1/1 [==============================] - 0s 26ms/step\n",
            "1/1 [==============================] - 0s 26ms/step\n",
            "1/1 [==============================] - 0s 35ms/step\n",
            "1/1 [==============================] - 0s 26ms/step\n",
            "1/1 [==============================] - 0s 24ms/step\n",
            "1/1 [==============================] - 0s 24ms/step\n",
            "1/1 [==============================] - 0s 25ms/step\n",
            "1/1 [==============================] - 0s 24ms/step\n",
            "1/1 [==============================] - 0s 30ms/step\n",
            "1/1 [==============================] - 0s 24ms/step\n",
            "1/1 [==============================] - 0s 25ms/step\n",
            "1/1 [==============================] - 0s 26ms/step\n",
            "1/1 [==============================] - 0s 27ms/step\n",
            "1/1 [==============================] - 0s 31ms/step\n",
            "1/1 [==============================] - 0s 35ms/step\n",
            "1/1 [==============================] - 0s 35ms/step\n",
            "1/1 [==============================] - 0s 41ms/step\n",
            "1/1 [==============================] - 0s 32ms/step\n",
            "1/1 [==============================] - 0s 31ms/step\n",
            "1/1 [==============================] - 0s 38ms/step\n",
            "1/1 [==============================] - 0s 26ms/step\n",
            "1/1 [==============================] - 0s 24ms/step\n",
            "1/1 [==============================] - 0s 28ms/step\n",
            "1/1 [==============================] - 0s 25ms/step\n",
            "1/1 [==============================] - 0s 38ms/step\n",
            "1/1 [==============================] - 0s 28ms/step\n",
            "1/1 [==============================] - 0s 30ms/step\n",
            "1/1 [==============================] - 0s 28ms/step\n",
            "1/1 [==============================] - 0s 24ms/step\n",
            "1/1 [==============================] - 0s 28ms/step\n",
            "1/1 [==============================] - 0s 29ms/step\n",
            "1/1 [==============================] - 0s 25ms/step\n",
            "1/1 [==============================] - 0s 24ms/step\n",
            "1/1 [==============================] - 0s 25ms/step\n",
            "1/1 [==============================] - 0s 25ms/step\n",
            "1/1 [==============================] - 0s 28ms/step\n",
            "1/1 [==============================] - 0s 25ms/step\n",
            "1/1 [==============================] - 0s 24ms/step\n",
            "1/1 [==============================] - 0s 26ms/step\n",
            "1/1 [==============================] - 0s 25ms/step\n",
            "1/1 [==============================] - 0s 59ms/step\n",
            "1/1 [==============================] - 0s 28ms/step\n",
            "1/1 [==============================] - 0s 28ms/step\n",
            "1/1 [==============================] - 0s 25ms/step\n",
            "1/1 [==============================] - 0s 25ms/step\n",
            "1/1 [==============================] - 0s 25ms/step\n",
            "1/1 [==============================] - 0s 26ms/step\n",
            "1/1 [==============================] - 0s 67ms/step\n",
            "1/1 [==============================] - 0s 24ms/step\n",
            "1/1 [==============================] - 0s 30ms/step\n",
            "1/1 [==============================] - 1s 1s/step\n"
          ]
        }
      ]
    },
    {
      "cell_type": "code",
      "source": [
        "validation_features, validation_labels = extract_features(validation_dir, 226)\n",
        "test_features, test_labels = extract_features(test_dir, 226)"
      ],
      "metadata": {
        "colab": {
          "base_uri": "https://localhost:8080/"
        },
        "id": "MSEf48bT5kAG",
        "outputId": "ef8ac7ad-6a30-404c-f5d1-1597c856390b"
      },
      "execution_count": null,
      "outputs": [
        {
          "output_type": "stream",
          "name": "stdout",
          "text": [
            "Found 226 images belonging to 3 classes.\n",
            "1/1 [==============================] - 0s 33ms/step\n",
            "1/1 [==============================] - 0s 25ms/step\n",
            "1/1 [==============================] - 0s 29ms/step\n",
            "1/1 [==============================] - 0s 28ms/step\n",
            "1/1 [==============================] - 0s 25ms/step\n",
            "1/1 [==============================] - 0s 26ms/step\n",
            "1/1 [==============================] - 0s 27ms/step\n",
            "1/1 [==============================] - 0s 27ms/step\n",
            "1/1 [==============================] - 0s 25ms/step\n",
            "1/1 [==============================] - 0s 25ms/step\n",
            "1/1 [==============================] - 0s 25ms/step\n",
            "1/1 [==============================] - 1s 1s/step\n",
            "Found 226 images belonging to 3 classes.\n",
            "1/1 [==============================] - 0s 24ms/step\n",
            "1/1 [==============================] - 0s 29ms/step\n",
            "1/1 [==============================] - 0s 28ms/step\n",
            "1/1 [==============================] - 0s 27ms/step\n",
            "1/1 [==============================] - 0s 25ms/step\n",
            "1/1 [==============================] - 0s 28ms/step\n",
            "1/1 [==============================] - 0s 26ms/step\n",
            "1/1 [==============================] - 0s 26ms/step\n",
            "1/1 [==============================] - 0s 24ms/step\n",
            "1/1 [==============================] - 0s 25ms/step\n",
            "1/1 [==============================] - 0s 26ms/step\n",
            "1/1 [==============================] - 0s 19ms/step\n"
          ]
        }
      ]
    },
    {
      "cell_type": "markdown",
      "source": [
        "- The extracted features are currently of shape (samples, 8, 8, 512). We will feed them to a densely connected classifier, so first we must flatten them to (Samples, 32768)."
      ],
      "metadata": {
        "id": "DY5y5QyJ6oYk"
      }
    },
    {
      "cell_type": "code",
      "source": [
        "train_features = np.reshape(train_features, (1710, 8 * 8 * 512))\n",
        "validation_features = np.reshape(validation_features, (226, 8 * 8 * 512))\n",
        "test_features = np.reshape(test_features, (226, 8 * 8 * 512))"
      ],
      "metadata": {
        "id": "MbmhCmkQ7Eld"
      },
      "execution_count": null,
      "outputs": []
    },
    {
      "cell_type": "markdown",
      "source": [
        "- At this point, we can define our densely connected classifier (note the use of dropout for regularization) and train it on the data and labels that we just recorded."
      ],
      "metadata": {
        "id": "gdzUEA-d7lJp"
      }
    },
    {
      "cell_type": "code",
      "source": [
        "# Defining and training the densely connected classifier\n",
        "\n",
        "from keras import models\n",
        "from keras import layers\n",
        "from keras import optimizers\n",
        "\n",
        "model = models.Sequential()\n",
        "model.add(layers.Dense(256, activation='relu', input_dim= 8 * 8 * 512 ))\n",
        "model.add(layers.Dropout(0.5))\n",
        "model.add(layers.Dense(3, activation='softmax'))"
      ],
      "metadata": {
        "id": "yKf4cGRm7iUM"
      },
      "execution_count": null,
      "outputs": []
    },
    {
      "cell_type": "code",
      "source": [
        "import tensorflow as tf\n",
        "\n",
        "model.compile(optimizer=\"adam\",\n",
        "              loss = \"sparse_categorical_crossentropy\",\n",
        "              metrics=[\"accuracy\"])"
      ],
      "metadata": {
        "id": "ohUyfEaI83bq"
      },
      "execution_count": null,
      "outputs": []
    },
    {
      "cell_type": "code",
      "source": [
        "history = model.fit(train_features, train_labels,\n",
        "                    epochs = 50, \n",
        "                    batch_size = 20,\n",
        "                    verbose=1,\n",
        "                    validation_data=(validation_features, validation_labels))"
      ],
      "metadata": {
        "colab": {
          "base_uri": "https://localhost:8080/"
        },
        "id": "9Bt6V01p92HV",
        "outputId": "50c1d39d-a6ab-438e-b305-c84ad84bed3a"
      },
      "execution_count": null,
      "outputs": [
        {
          "output_type": "stream",
          "name": "stdout",
          "text": [
            "Epoch 1/50\n",
            "86/86 [==============================] - 1s 8ms/step - loss: 1.2964 - accuracy: 0.7912 - val_loss: 0.2482 - val_accuracy: 0.9071\n",
            "Epoch 2/50\n",
            "86/86 [==============================] - 1s 6ms/step - loss: 0.2338 - accuracy: 0.9205 - val_loss: 0.2025 - val_accuracy: 0.9248\n",
            "Epoch 3/50\n",
            "86/86 [==============================] - 1s 6ms/step - loss: 0.1619 - accuracy: 0.9398 - val_loss: 0.1832 - val_accuracy: 0.9336\n",
            "Epoch 4/50\n",
            "86/86 [==============================] - 1s 7ms/step - loss: 0.1471 - accuracy: 0.9468 - val_loss: 0.1198 - val_accuracy: 0.9735\n",
            "Epoch 5/50\n",
            "86/86 [==============================] - 1s 6ms/step - loss: 0.1192 - accuracy: 0.9596 - val_loss: 0.1772 - val_accuracy: 0.9558\n",
            "Epoch 6/50\n",
            "86/86 [==============================] - 1s 7ms/step - loss: 0.0933 - accuracy: 0.9731 - val_loss: 0.1169 - val_accuracy: 0.9646\n",
            "Epoch 7/50\n",
            "86/86 [==============================] - 1s 6ms/step - loss: 0.0792 - accuracy: 0.9743 - val_loss: 0.1169 - val_accuracy: 0.9735\n",
            "Epoch 8/50\n",
            "86/86 [==============================] - 1s 6ms/step - loss: 0.0927 - accuracy: 0.9620 - val_loss: 0.1084 - val_accuracy: 0.9735\n",
            "Epoch 9/50\n",
            "86/86 [==============================] - 1s 7ms/step - loss: 0.0676 - accuracy: 0.9708 - val_loss: 0.1440 - val_accuracy: 0.9558\n",
            "Epoch 10/50\n",
            "86/86 [==============================] - 1s 6ms/step - loss: 0.0811 - accuracy: 0.9696 - val_loss: 0.1160 - val_accuracy: 0.9513\n",
            "Epoch 11/50\n",
            "86/86 [==============================] - 1s 7ms/step - loss: 0.0595 - accuracy: 0.9784 - val_loss: 0.2460 - val_accuracy: 0.9292\n",
            "Epoch 12/50\n",
            "86/86 [==============================] - 1s 6ms/step - loss: 0.1007 - accuracy: 0.9614 - val_loss: 0.1205 - val_accuracy: 0.9602\n",
            "Epoch 13/50\n",
            "86/86 [==============================] - 1s 6ms/step - loss: 0.0659 - accuracy: 0.9731 - val_loss: 0.1231 - val_accuracy: 0.9602\n",
            "Epoch 14/50\n",
            "86/86 [==============================] - 1s 6ms/step - loss: 0.0951 - accuracy: 0.9637 - val_loss: 0.1820 - val_accuracy: 0.9558\n",
            "Epoch 15/50\n",
            "86/86 [==============================] - 1s 6ms/step - loss: 0.0807 - accuracy: 0.9667 - val_loss: 0.1396 - val_accuracy: 0.9602\n",
            "Epoch 16/50\n",
            "86/86 [==============================] - 1s 6ms/step - loss: 0.1074 - accuracy: 0.9579 - val_loss: 0.1239 - val_accuracy: 0.9690\n",
            "Epoch 17/50\n",
            "86/86 [==============================] - 1s 6ms/step - loss: 0.0931 - accuracy: 0.9655 - val_loss: 0.0858 - val_accuracy: 0.9779\n",
            "Epoch 18/50\n",
            "86/86 [==============================] - 1s 6ms/step - loss: 0.1092 - accuracy: 0.9556 - val_loss: 0.1177 - val_accuracy: 0.9558\n",
            "Epoch 19/50\n",
            "86/86 [==============================] - 1s 6ms/step - loss: 0.0993 - accuracy: 0.9602 - val_loss: 0.1586 - val_accuracy: 0.9425\n",
            "Epoch 20/50\n",
            "86/86 [==============================] - 1s 7ms/step - loss: 0.0823 - accuracy: 0.9614 - val_loss: 0.1827 - val_accuracy: 0.9513\n",
            "Epoch 21/50\n",
            "86/86 [==============================] - 1s 7ms/step - loss: 0.0764 - accuracy: 0.9719 - val_loss: 0.3357 - val_accuracy: 0.9071\n",
            "Epoch 22/50\n",
            "86/86 [==============================] - 1s 7ms/step - loss: 0.0814 - accuracy: 0.9684 - val_loss: 0.1122 - val_accuracy: 0.9779\n",
            "Epoch 23/50\n",
            "86/86 [==============================] - 1s 6ms/step - loss: 0.0460 - accuracy: 0.9860 - val_loss: 0.2132 - val_accuracy: 0.9513\n",
            "Epoch 24/50\n",
            "86/86 [==============================] - 1s 7ms/step - loss: 0.0727 - accuracy: 0.9702 - val_loss: 0.1632 - val_accuracy: 0.9646\n",
            "Epoch 25/50\n",
            "86/86 [==============================] - 1s 6ms/step - loss: 0.0716 - accuracy: 0.9749 - val_loss: 0.1386 - val_accuracy: 0.9646\n",
            "Epoch 26/50\n",
            "86/86 [==============================] - 1s 6ms/step - loss: 0.0635 - accuracy: 0.9795 - val_loss: 0.1624 - val_accuracy: 0.9513\n",
            "Epoch 27/50\n",
            "86/86 [==============================] - 1s 6ms/step - loss: 0.0969 - accuracy: 0.9637 - val_loss: 0.1134 - val_accuracy: 0.9646\n",
            "Epoch 28/50\n",
            "86/86 [==============================] - 1s 7ms/step - loss: 0.0687 - accuracy: 0.9667 - val_loss: 0.1622 - val_accuracy: 0.9646\n",
            "Epoch 29/50\n",
            "86/86 [==============================] - 0s 6ms/step - loss: 0.1033 - accuracy: 0.9585 - val_loss: 0.1283 - val_accuracy: 0.9558\n",
            "Epoch 30/50\n",
            "86/86 [==============================] - 0s 5ms/step - loss: 0.0836 - accuracy: 0.9573 - val_loss: 0.1521 - val_accuracy: 0.9602\n",
            "Epoch 31/50\n",
            "86/86 [==============================] - 0s 6ms/step - loss: 0.0870 - accuracy: 0.9673 - val_loss: 0.1078 - val_accuracy: 0.9779\n",
            "Epoch 32/50\n",
            "86/86 [==============================] - 0s 6ms/step - loss: 0.0765 - accuracy: 0.9661 - val_loss: 0.0986 - val_accuracy: 0.9735\n",
            "Epoch 33/50\n",
            "86/86 [==============================] - 0s 6ms/step - loss: 0.0664 - accuracy: 0.9772 - val_loss: 0.1818 - val_accuracy: 0.9513\n",
            "Epoch 34/50\n",
            "86/86 [==============================] - 0s 5ms/step - loss: 0.0861 - accuracy: 0.9661 - val_loss: 0.1771 - val_accuracy: 0.9646\n",
            "Epoch 35/50\n",
            "86/86 [==============================] - 0s 5ms/step - loss: 0.0780 - accuracy: 0.9690 - val_loss: 0.1622 - val_accuracy: 0.9558\n",
            "Epoch 36/50\n",
            "86/86 [==============================] - 0s 5ms/step - loss: 0.1139 - accuracy: 0.9456 - val_loss: 0.2118 - val_accuracy: 0.9646\n",
            "Epoch 37/50\n",
            "86/86 [==============================] - 0s 5ms/step - loss: 0.0671 - accuracy: 0.9749 - val_loss: 0.1643 - val_accuracy: 0.9602\n",
            "Epoch 38/50\n",
            "86/86 [==============================] - 0s 6ms/step - loss: 0.0640 - accuracy: 0.9737 - val_loss: 0.2100 - val_accuracy: 0.9602\n",
            "Epoch 39/50\n",
            "86/86 [==============================] - 0s 5ms/step - loss: 0.0635 - accuracy: 0.9778 - val_loss: 0.2364 - val_accuracy: 0.9513\n",
            "Epoch 40/50\n",
            "86/86 [==============================] - 0s 5ms/step - loss: 0.0555 - accuracy: 0.9819 - val_loss: 0.1536 - val_accuracy: 0.9558\n",
            "Epoch 41/50\n",
            "86/86 [==============================] - 0s 5ms/step - loss: 0.0611 - accuracy: 0.9766 - val_loss: 0.2276 - val_accuracy: 0.9425\n",
            "Epoch 42/50\n",
            "86/86 [==============================] - 0s 6ms/step - loss: 0.0626 - accuracy: 0.9801 - val_loss: 0.2376 - val_accuracy: 0.9469\n",
            "Epoch 43/50\n",
            "86/86 [==============================] - 0s 5ms/step - loss: 0.0648 - accuracy: 0.9819 - val_loss: 0.1175 - val_accuracy: 0.9690\n",
            "Epoch 44/50\n",
            "86/86 [==============================] - 0s 5ms/step - loss: 0.0640 - accuracy: 0.9778 - val_loss: 0.2216 - val_accuracy: 0.9469\n",
            "Epoch 45/50\n",
            "86/86 [==============================] - 0s 6ms/step - loss: 0.0514 - accuracy: 0.9807 - val_loss: 0.1845 - val_accuracy: 0.9602\n",
            "Epoch 46/50\n",
            "86/86 [==============================] - 0s 5ms/step - loss: 0.0409 - accuracy: 0.9877 - val_loss: 0.2344 - val_accuracy: 0.9425\n",
            "Epoch 47/50\n",
            "86/86 [==============================] - 0s 5ms/step - loss: 0.0419 - accuracy: 0.9860 - val_loss: 0.1152 - val_accuracy: 0.9735\n",
            "Epoch 48/50\n",
            "86/86 [==============================] - 0s 5ms/step - loss: 0.0445 - accuracy: 0.9865 - val_loss: 0.1482 - val_accuracy: 0.9690\n",
            "Epoch 49/50\n",
            "86/86 [==============================] - 0s 5ms/step - loss: 0.0419 - accuracy: 0.9836 - val_loss: 0.2898 - val_accuracy: 0.9425\n",
            "Epoch 50/50\n",
            "86/86 [==============================] - 0s 5ms/step - loss: 0.0509 - accuracy: 0.9801 - val_loss: 0.1894 - val_accuracy: 0.9646\n"
          ]
        }
      ]
    },
    {
      "cell_type": "markdown",
      "source": [
        "- Training is very fast, because we only have to deal with two Dense layers.\n",
        "- An epoch takes less than one second even on CPU"
      ],
      "metadata": {
        "id": "UafXKSqTK_Ho"
      }
    },
    {
      "cell_type": "code",
      "source": [
        "history.history.keys()"
      ],
      "metadata": {
        "colab": {
          "base_uri": "https://localhost:8080/"
        },
        "id": "T2c_HYg0LYKX",
        "outputId": "52edfcab-1b4d-4702-d002-766536137690"
      },
      "execution_count": null,
      "outputs": [
        {
          "output_type": "execute_result",
          "data": {
            "text/plain": [
              "dict_keys(['loss', 'accuracy', 'val_loss', 'val_accuracy'])"
            ]
          },
          "metadata": {},
          "execution_count": 104
        }
      ]
    },
    {
      "cell_type": "code",
      "source": [
        "# Plotting the results\n",
        "\n",
        "import matplotlib.pyplot as plt\n",
        "\n",
        "acc = history.history[\"accuracy\"]\n",
        "val_acc = history.history[\"val_accuracy\"]\n",
        "loss = history.history[\"loss\"]\n",
        "val_loss = history.history['val_loss']\n",
        "\n",
        "epochs = range(1, len(acc) + 1)\n",
        "\n",
        "plt.plot(epochs, acc, 'bo', label='Training acc')\n",
        "plt.plot(epochs, val_acc, 'b', label='validation acc')\n",
        "plt.title(\"Training and validation accuracy\")\n",
        "plt.legend()"
      ],
      "metadata": {
        "colab": {
          "base_uri": "https://localhost:8080/",
          "height": 299
        },
        "id": "P-t0RHPIAZtx",
        "outputId": "c35ed084-ee98-4ccd-d515-bd09b3fb0fcd"
      },
      "execution_count": null,
      "outputs": [
        {
          "output_type": "execute_result",
          "data": {
            "text/plain": [
              "<matplotlib.legend.Legend at 0x7fe19a52ce50>"
            ]
          },
          "metadata": {},
          "execution_count": 107
        },
        {
          "output_type": "display_data",
          "data": {
            "text/plain": [
              "<Figure size 432x288 with 1 Axes>"
            ],
            "image/png": "[encoded data removed]"
          },
          "metadata": {
            "needs_background": "light"
          }
        }
      ]
    },
    {
      "cell_type": "code",
      "source": [
        "plt.plot(epochs, loss, 'bo', label='Training loss')\n",
        "plt.plot(epochs, val_loss, 'b', label='Validation loss')\n",
        "plt.title('Training and validation loss')\n",
        "plt.legend()\n",
        "\n",
        "plt.show()"
      ],
      "metadata": {
        "colab": {
          "base_uri": "https://localhost:8080/",
          "height": 281
        },
        "id": "k7qhiPqfM3AR",
        "outputId": "9c7b6526-64c2-486c-eca2-7e781c149a28"
      },
      "execution_count": null,
      "outputs": [
        {
          "output_type": "display_data",
          "data": {
            "text/plain": [
              "<Figure size 432x288 with 1 Axes>"
            ],
            "image/png": "[encoded data removed]"
          },
          "metadata": {
            "needs_background": "light"
          }
        }
      ]
    },
    {
      "cell_type": "markdown",
      "source": [
        "### Feature Extraction With Data Augmentation\n",
        "\n",
        "- It is much slower and more expensive, but it allows us to use data augmentation during training.\n",
        "- extending the conv_base model and running it end to end on the inputs."
      ],
      "metadata": {
        "id": "rKxrDrGJzvpC"
      }
    },
    {
      "cell_type": "code",
      "source": [
        "# Adding a densely conneected classifier on top of the convolutional base\n",
        "\n",
        "from keras import models\n",
        "from keras import layers\n",
        "\n",
        "model = models.Sequential()\n",
        "model.add(conv_base)\n",
        "model.add(layers.Flatten())\n",
        "model.add(layers.Dense(256, activation = 'relu'))\n",
        "model.add(layers.Dense(3, activation = \"softmax\"))"
      ],
      "metadata": {
        "id": "wfsg2YnuNcXs"
      },
      "execution_count": 4,
      "outputs": []
    },
    {
      "cell_type": "code",
      "source": [
        "# >>> this is waht the model looks like\n",
        "\n",
        "model.summary()"
      ],
      "metadata": {
        "colab": {
          "base_uri": "https://localhost:8080/"
        },
        "id": "Xv3KQ2sR06YR",
        "outputId": "3d0a8d47-1e85-4876-c56f-84c56cfa21b5"
      },
      "execution_count": 5,
      "outputs": [
        {
          "output_type": "stream",
          "name": "stdout",
          "text": [
            "Model: \"sequential\"\n",
            "_________________________________________________________________\n",
            " Layer (type)                Output Shape              Param #   \n",
            "=================================================================\n",
            " vgg16 (Functional)          (None, 8, 8, 512)         14714688  \n",
            "                                                                 \n",
            " flatten (Flatten)           (None, 32768)             0         \n",
            "                                                                 \n",
            " dense (Dense)               (None, 256)               8388864   \n",
            "                                                                 \n",
            " dense_1 (Dense)             (None, 3)                 771       \n",
            "                                                                 \n",
            "=================================================================\n",
            "Total params: 23,104,323\n",
            "Trainable params: 23,104,323\n",
            "Non-trainable params: 0\n",
            "_________________________________________________________________\n"
          ]
        }
      ]
    },
    {
      "cell_type": "markdown",
      "source": [
        "- Convolutional base of VGG16 has 14714688 parameters, which is very large.\n",
        "- The classifier we are adding on top has 2 million parameters.\n",
        "\n",
        "-------------------------------------------------------------------\n",
        "\n",
        "- Before we compile and train the model, it is very important to freeze the convolutional base.\n",
        " - Freezing a layer or set of layers means preventing their weights from being updated during training.\n",
        " - If we don't do this, then the representation that were previously learned by the convolutional base will be modified during training.\n",
        "\n",
        " --------------------------------------------------------------------\n",
        "\n",
        " - In keras, we freeze a network by setting its trainable attribute to False"
      ],
      "metadata": {
        "id": "mU-2GeMV1dGp"
      }
    },
    {
      "cell_type": "code",
      "source": [
        "print('This is the number of trainable weights '\n",
        "      'before freezing the conv base:', len(model.trainable_weights))"
      ],
      "metadata": {
        "colab": {
          "base_uri": "https://localhost:8080/"
        },
        "id": "C0hpcuK80-tk",
        "outputId": "8362cfaf-9b9e-44d9-cbc6-6a619475d34c"
      },
      "execution_count": 6,
      "outputs": [
        {
          "output_type": "stream",
          "name": "stdout",
          "text": [
            "This is the number of trainable weights before freezing the conv base: 30\n"
          ]
        }
      ]
    },
    {
      "cell_type": "code",
      "source": [
        "conv_base.trainable = False"
      ],
      "metadata": {
        "id": "yvyObmMV2_9T"
      },
      "execution_count": 7,
      "outputs": []
    },
    {
      "cell_type": "code",
      "source": [
        "print('This is the number of trainable weights '\n",
        "      'after freezing the conv base:', len(model.trainable_weights))"
      ],
      "metadata": {
        "colab": {
          "base_uri": "https://localhost:8080/"
        },
        "id": "KCgBIrSH3KOJ",
        "outputId": "8e530c0e-0305-4713-e389-ee499ed3fa78"
      },
      "execution_count": 8,
      "outputs": [
        {
          "output_type": "stream",
          "name": "stdout",
          "text": [
            "This is the number of trainable weights after freezing the conv base: 4\n"
          ]
        }
      ]
    },
    {
      "cell_type": "markdown",
      "source": [
        "- With this setup, only the weights from the two Dense layers that we added will be trained.\n",
        " - That's a total of four weight tensor: two per layer (the main weight matrix and the bias vector).\n",
        "\n",
        "- if we ever modify weight trainability after compilation, we should then recompile the model, or these changes will be ignored."
      ],
      "metadata": {
        "id": "oL1ztJ3a3rnz"
      }
    },
    {
      "cell_type": "code",
      "source": [
        "import os\n",
        "\n",
        "base_dir = \"/content/drive/MyDrive/Potato-Disease-Classification/training/PlantVillageDir\"\n",
        "train_dir = os.path.join(base_dir, \"train\")\n",
        "validation_dir = os.path.join(base_dir, \"validation\")\n",
        "test_dir = os.path.join(base_dir, \"test\")"
      ],
      "metadata": {
        "id": "ubF-rgku73oB"
      },
      "execution_count": 9,
      "outputs": []
    },
    {
      "cell_type": "code",
      "source": [
        "# Training the model end to end with a frozen convolutional base\n",
        "\n",
        "from keras.preprocessing.image  import ImageDataGenerator\n",
        "from keras import optimizers\n",
        "\n",
        "train_datagen = ImageDataGenerator(\n",
        "    rescale=1./255,\n",
        "    rotation_range=40,\n",
        "    width_shift_range=0.2,\n",
        "    height_shift_range=0.2,\n",
        "    shear_range=0.2,\n",
        "    zoom_range=0.2,\n",
        "    horizontal_flip=True,\n",
        "    fill_mode='nearest')\n",
        "\n",
        "test_datagen = ImageDataGenerator(rescale=1./255)\n",
        "\n",
        "train_generator = train_datagen.flow_from_directory(\n",
        "    train_dir,\n",
        "    target_size=(256,256),\n",
        "    batch_size=20,\n",
        "    classes = ['Potato___Early_blight', 'Potato___healthy', 'Potato___Late_blight'],\n",
        "    class_mode = 'sparse')\n",
        "\n",
        "validation_generator = test_datagen.flow_from_directory(\n",
        "    validation_dir,\n",
        "    target_size=(256,256),\n",
        "    batch_size=20,\n",
        "    classes = ['Potato___Early_blight', 'Potato___healthy', 'Potato___Late_blight'],\n",
        "    class_mode = 'sparse')\n",
        "\n",
        "\n",
        "model.compile(optimizer=\"adam\",\n",
        "              loss = \"sparse_categorical_crossentropy\",\n",
        "              metrics=[\"accuracy\"])"
      ],
      "metadata": {
        "colab": {
          "base_uri": "https://localhost:8080/"
        },
        "id": "RPYv5r9k3Q1a",
        "outputId": "73a4f835-1b78-444c-d9d2-38d5310c9eb7"
      },
      "execution_count": 10,
      "outputs": [
        {
          "output_type": "stream",
          "name": "stdout",
          "text": [
            "Found 1710 images belonging to 3 classes.\n",
            "Found 226 images belonging to 3 classes.\n"
          ]
        }
      ]
    },
    {
      "cell_type": "code",
      "source": [
        "history = model.fit(\n",
        "    train_generator, \n",
        "    steps_per_epoch=85,\n",
        "    epochs = 30, \n",
        "    validation_data=validation_generator,\n",
        "    validation_steps=11)"
      ],
      "metadata": {
        "colab": {
          "base_uri": "https://localhost:8080/"
        },
        "id": "IEcVX4cH7s6I",
        "outputId": "585a5ad0-a069-4fb9-95a7-a00768e431d0"
      },
      "execution_count": 11,
      "outputs": [
        {
          "output_type": "stream",
          "name": "stdout",
          "text": [
            "Epoch 1/30\n",
            "85/85 [==============================] - 676s 8s/step - loss: 0.8698 - accuracy: 0.8089 - val_loss: 0.4063 - val_accuracy: 0.7955\n",
            "Epoch 2/30\n",
            "85/85 [==============================] - 32s 378ms/step - loss: 0.2661 - accuracy: 0.9018 - val_loss: 0.2617 - val_accuracy: 0.9000\n",
            "Epoch 3/30\n",
            "85/85 [==============================] - 32s 381ms/step - loss: 0.2521 - accuracy: 0.9041 - val_loss: 0.2327 - val_accuracy: 0.8909\n",
            "Epoch 4/30\n",
            "85/85 [==============================] - 32s 376ms/step - loss: 0.1940 - accuracy: 0.9213 - val_loss: 0.1924 - val_accuracy: 0.9182\n",
            "Epoch 5/30\n",
            "85/85 [==============================] - 32s 373ms/step - loss: 0.2043 - accuracy: 0.9296 - val_loss: 0.3385 - val_accuracy: 0.8773\n",
            "Epoch 6/30\n",
            "85/85 [==============================] - 32s 374ms/step - loss: 0.2073 - accuracy: 0.9225 - val_loss: 0.7775 - val_accuracy: 0.7591\n",
            "Epoch 7/30\n",
            "85/85 [==============================] - 33s 386ms/step - loss: 0.2220 - accuracy: 0.9178 - val_loss: 0.1296 - val_accuracy: 0.9409\n",
            "Epoch 8/30\n",
            "85/85 [==============================] - 35s 407ms/step - loss: 0.1723 - accuracy: 0.9343 - val_loss: 0.2874 - val_accuracy: 0.8682\n",
            "Epoch 9/30\n",
            "85/85 [==============================] - 32s 379ms/step - loss: 0.1165 - accuracy: 0.9550 - val_loss: 0.0839 - val_accuracy: 0.9727\n",
            "Epoch 10/30\n",
            "85/85 [==============================] - 32s 380ms/step - loss: 0.1279 - accuracy: 0.9521 - val_loss: 0.1440 - val_accuracy: 0.9409\n",
            "Epoch 11/30\n",
            "85/85 [==============================] - 32s 380ms/step - loss: 0.1507 - accuracy: 0.9426 - val_loss: 0.2264 - val_accuracy: 0.8955\n",
            "Epoch 12/30\n",
            "85/85 [==============================] - 32s 381ms/step - loss: 0.0982 - accuracy: 0.9621 - val_loss: 0.1456 - val_accuracy: 0.9364\n",
            "Epoch 13/30\n",
            "85/85 [==============================] - 32s 378ms/step - loss: 0.1478 - accuracy: 0.9462 - val_loss: 0.1067 - val_accuracy: 0.9682\n",
            "Epoch 14/30\n",
            "85/85 [==============================] - 34s 400ms/step - loss: 0.1231 - accuracy: 0.9527 - val_loss: 0.1264 - val_accuracy: 0.9636\n",
            "Epoch 15/30\n",
            "85/85 [==============================] - 32s 375ms/step - loss: 0.1101 - accuracy: 0.9544 - val_loss: 0.1936 - val_accuracy: 0.9318\n",
            "Epoch 16/30\n",
            "85/85 [==============================] - 32s 376ms/step - loss: 0.1197 - accuracy: 0.9556 - val_loss: 0.2116 - val_accuracy: 0.9227\n",
            "Epoch 17/30\n",
            "85/85 [==============================] - 32s 378ms/step - loss: 0.1178 - accuracy: 0.9556 - val_loss: 0.3663 - val_accuracy: 0.8864\n",
            "Epoch 18/30\n",
            "85/85 [==============================] - 33s 385ms/step - loss: 0.1024 - accuracy: 0.9621 - val_loss: 0.2441 - val_accuracy: 0.9182\n",
            "Epoch 19/30\n",
            "85/85 [==============================] - 33s 385ms/step - loss: 0.0955 - accuracy: 0.9669 - val_loss: 0.1298 - val_accuracy: 0.9455\n",
            "Epoch 20/30\n",
            "85/85 [==============================] - 33s 383ms/step - loss: 0.1267 - accuracy: 0.9497 - val_loss: 0.2174 - val_accuracy: 0.9182\n",
            "Epoch 21/30\n",
            "85/85 [==============================] - 35s 407ms/step - loss: 0.0969 - accuracy: 0.9657 - val_loss: 0.2516 - val_accuracy: 0.9273\n",
            "Epoch 22/30\n",
            "85/85 [==============================] - 32s 376ms/step - loss: 0.0943 - accuracy: 0.9657 - val_loss: 0.1409 - val_accuracy: 0.9364\n",
            "Epoch 23/30\n",
            "85/85 [==============================] - 32s 378ms/step - loss: 0.1334 - accuracy: 0.9479 - val_loss: 0.1893 - val_accuracy: 0.9227\n",
            "Epoch 24/30\n",
            "85/85 [==============================] - 32s 378ms/step - loss: 0.1012 - accuracy: 0.9621 - val_loss: 0.4223 - val_accuracy: 0.8455\n",
            "Epoch 25/30\n",
            "85/85 [==============================] - 32s 374ms/step - loss: 0.1159 - accuracy: 0.9533 - val_loss: 0.3360 - val_accuracy: 0.8864\n",
            "Epoch 26/30\n",
            "85/85 [==============================] - 33s 381ms/step - loss: 0.1352 - accuracy: 0.9544 - val_loss: 0.1069 - val_accuracy: 0.9636\n",
            "Epoch 27/30\n",
            "85/85 [==============================] - 32s 377ms/step - loss: 0.1108 - accuracy: 0.9509 - val_loss: 0.0936 - val_accuracy: 0.9682\n",
            "Epoch 28/30\n",
            "85/85 [==============================] - 34s 393ms/step - loss: 0.0903 - accuracy: 0.9663 - val_loss: 0.2027 - val_accuracy: 0.8955\n",
            "Epoch 29/30\n",
            "85/85 [==============================] - 32s 372ms/step - loss: 0.0959 - accuracy: 0.9621 - val_loss: 0.1547 - val_accuracy: 0.9318\n",
            "Epoch 30/30\n",
            "85/85 [==============================] - 32s 371ms/step - loss: 0.1065 - accuracy: 0.9609 - val_loss: 0.1346 - val_accuracy: 0.9455\n"
          ]
        }
      ]
    },
    {
      "cell_type": "code",
      "source": [
        "history.history.keys()"
      ],
      "metadata": {
        "colab": {
          "base_uri": "https://localhost:8080/"
        },
        "id": "6UdNbKMWCuzB",
        "outputId": "9dfd434d-a9e0-4240-ffc9-906ef6f81f32"
      },
      "execution_count": 15,
      "outputs": [
        {
          "output_type": "execute_result",
          "data": {
            "text/plain": [
              "dict_keys(['loss', 'accuracy', 'val_loss', 'val_accuracy'])"
            ]
          },
          "metadata": {},
          "execution_count": 15
        }
      ]
    },
    {
      "cell_type": "code",
      "source": [
        "# Plotting the results\n",
        "\n",
        "import matplotlib.pyplot as plt\n",
        "\n",
        "acc = history.history[\"accuracy\"]\n",
        "val_acc = history.history[\"val_accuracy\"]\n",
        "loss = history.history[\"loss\"]\n",
        "val_loss = history.history['val_loss']\n",
        "\n",
        "epochs = range(1, len(acc) + 1)\n",
        "\n",
        "plt.plot(epochs, acc, 'bo', label='Training acc')\n",
        "plt.plot(epochs, val_acc, 'b', label='validation acc')\n",
        "plt.title(\"Training and validation accuracy\")\n",
        "plt.legend()"
      ],
      "metadata": {
        "colab": {
          "base_uri": "https://localhost:8080/",
          "height": 298
        },
        "id": "FH_7mRb0KCtw",
        "outputId": "740409b8-3e76-4cd5-c602-dd8b990261f2"
      },
      "execution_count": 16,
      "outputs": [
        {
          "output_type": "execute_result",
          "data": {
            "text/plain": [
              "<matplotlib.legend.Legend at 0x7f664c290950>"
            ]
          },
          "metadata": {},
          "execution_count": 16
        },
        {
          "output_type": "display_data",
          "data": {
            "text/plain": [
              "<Figure size 432x288 with 1 Axes>"
            ],
            "image/png": "[encoded data removed]"
          },
          "metadata": {
            "needs_background": "light"
          }
        }
      ]
    },
    {
      "cell_type": "code",
      "source": [
        "plt.plot(epochs, loss, 'bo', label='Training loss')\n",
        "plt.plot(epochs, val_loss, 'b', label='Validation loss')\n",
        "plt.title('Training and validation loss')\n",
        "plt.legend()\n",
        "\n",
        "plt.show()"
      ],
      "metadata": {
        "colab": {
          "base_uri": "https://localhost:8080/",
          "height": 281
        },
        "id": "wgMS3s3GKOkS",
        "outputId": "58a99b3a-3ce8-46a2-e1ec-3c1ea634fa95"
      },
      "execution_count": 17,
      "outputs": [
        {
          "output_type": "display_data",
          "data": {
            "text/plain": [
              "<Figure size 432x288 with 1 Axes>"
            ],
            "image/png": "[encoded data removed]"
          },
          "metadata": {
            "needs_background": "light"
          }
        }
      ]
    },
    {
      "cell_type": "code",
      "source": [
        "test_datagen = ImageDataGenerator(rescale=1./255)\n",
        "\n",
        "test_generator = test_datagen.flow_from_directory(\n",
        "    test_dir,\n",
        "    target_size=(256,256),\n",
        "    batch_size=20,\n",
        "    classes = ['Potato___Early_blight', 'Potato___healthy', 'Potato___Late_blight'],\n",
        "    class_mode = 'sparse')"
      ],
      "metadata": {
        "colab": {
          "base_uri": "https://localhost:8080/"
        },
        "id": "QwlIxC2IKjTY",
        "outputId": "ab432ff9-21b5-43de-a565-2e350bb9d49c"
      },
      "execution_count": 12,
      "outputs": [
        {
          "output_type": "stream",
          "name": "stdout",
          "text": [
            "Found 226 images belonging to 3 classes.\n"
          ]
        }
      ]
    },
    {
      "cell_type": "code",
      "source": [
        "test_loss, test_acc = model.evaluate(test_generator, steps = 11)"
      ],
      "metadata": {
        "colab": {
          "base_uri": "https://localhost:8080/"
        },
        "id": "qescjuT9K3Ul",
        "outputId": "d4ab4f1d-1f46-47ae-dc30-6db24e67ef31"
      },
      "execution_count": 13,
      "outputs": [
        {
          "output_type": "stream",
          "name": "stdout",
          "text": [
            "11/11 [==============================] - 49s 5s/step - loss: 0.2225 - accuracy: 0.9318\n"
          ]
        }
      ]
    },
    {
      "cell_type": "code",
      "source": [
        "print(\"Test Acc:\", test_acc)"
      ],
      "metadata": {
        "colab": {
          "base_uri": "https://localhost:8080/"
        },
        "id": "HB01wT38EsCZ",
        "outputId": "1393f95a-6d25-4b25-eac9-29e8c7cca54b"
      },
      "execution_count": 14,
      "outputs": [
        {
          "output_type": "stream",
          "name": "stdout",
          "text": [
            "Test Acc: 0.9318181872367859\n"
          ]
        }
      ]
    },
    {
      "cell_type": "markdown",
      "source": [
        "# Fine Tuning Approach:\n",
        "### We will be using Fine Tuning method for transfer learning\n",
        "\n",
        "- Another widely used technique for model reuse, complementary to feature extraction, is fine-tuning.\n",
        "\n",
        "- Fine-tuning consists of unfreezing a few of the top layers of a frozen model base, we used for feature extraction, and jointly training both the newly added part of the model(fully connected classifier) and these top layers.\n",
        "\n",
        "- This is called fine-tuning because it slightly adjusts the more abstract representations of the model being reused, in order to make them relevant for the problem at hand."
      ],
      "metadata": {
        "id": "tFXzkuJJYieD"
      }
    },
    {
      "cell_type": "markdown",
      "source": [
        "![pretrained_convnet.png](data:image/png;base64,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)"
      ],
      "metadata": {
        "id": "zyy3BaEzbXO_"
      }
    },
    {
      "cell_type": "markdown",
      "source": [
        "--------------------------------------------------------------------------------\n",
        "- It is only possible to fine-tune the top layers of the convolutional base once the classifier on top has already been trained.\n",
        "\n",
        "- If the classifier isn't already trained, then the error signal propagating through the network during training will be too large, and the representations previoulsy learned by the layers being fine-tuned will be destroyed."
      ],
      "metadata": {
        "id": "xEYhsixlYumK"
      }
    },
    {
      "cell_type": "markdown",
      "source": [
        "- The steps for fine-tuning a network are as follow:\n",
        " - 1. Add custom network on top of an already-trained base network.\n",
        " - 2. Freeze the base network\n",
        " - 3. Train the part we added\n",
        " - 4. Unfreeze some layers in the base network,\n",
        " - 5. Jointly train both these layers and the part we added.\n",
        "\n",
        " ###### We already completed the first three steps when doing feature extraction. Let's proceed with the step 4: We will unfreeze our conv_base and then freeze individual layers inside it."
      ],
      "metadata": {
        "id": "JHyZPhVLYz_N"
      }
    },
    {
      "cell_type": "code",
      "source": [
        "# This is what our convolutional base looks like\n",
        "conv_base.summary()"
      ],
      "metadata": {
        "colab": {
          "base_uri": "https://localhost:8080/"
        },
        "id": "QFP8ofr9YiHN",
        "outputId": "7eb97537-5a45-4c59-d864-80cd679afd7c"
      },
      "execution_count": 18,
      "outputs": [
        {
          "output_type": "stream",
          "name": "stdout",
          "text": [
            "Model: \"vgg16\"\n",
            "_________________________________________________________________\n",
            " Layer (type)                Output Shape              Param #   \n",
            "=================================================================\n",
            " input_1 (InputLayer)        [(None, 256, 256, 3)]     0         \n",
            "                                                                 \n",
            " block1_conv1 (Conv2D)       (None, 256, 256, 64)      1792      \n",
            "                                                                 \n",
            " block1_conv2 (Conv2D)       (None, 256, 256, 64)      36928     \n",
            "                                                                 \n",
            " block1_pool (MaxPooling2D)  (None, 128, 128, 64)      0         \n",
            "                                                                 \n",
            " block2_conv1 (Conv2D)       (None, 128, 128, 128)     73856     \n",
            "                                                                 \n",
            " block2_conv2 (Conv2D)       (None, 128, 128, 128)     147584    \n",
            "                                                                 \n",
            " block2_pool (MaxPooling2D)  (None, 64, 64, 128)       0         \n",
            "                                                                 \n",
            " block3_conv1 (Conv2D)       (None, 64, 64, 256)       295168    \n",
            "                                                                 \n",
            " block3_conv2 (Conv2D)       (None, 64, 64, 256)       590080    \n",
            "                                                                 \n",
            " block3_conv3 (Conv2D)       (None, 64, 64, 256)       590080    \n",
            "                                                                 \n",
            " block3_pool (MaxPooling2D)  (None, 32, 32, 256)       0         \n",
            "                                                                 \n",
            " block4_conv1 (Conv2D)       (None, 32, 32, 512)       1180160   \n",
            "                                                                 \n",
            " block4_conv2 (Conv2D)       (None, 32, 32, 512)       2359808   \n",
            "                                                                 \n",
            " block4_conv3 (Conv2D)       (None, 32, 32, 512)       2359808   \n",
            "                                                                 \n",
            " block4_pool (MaxPooling2D)  (None, 16, 16, 512)       0         \n",
            "                                                                 \n",
            " block5_conv1 (Conv2D)       (None, 16, 16, 512)       2359808   \n",
            "                                                                 \n",
            " block5_conv2 (Conv2D)       (None, 16, 16, 512)       2359808   \n",
            "                                                                 \n",
            " block5_conv3 (Conv2D)       (None, 16, 16, 512)       2359808   \n",
            "                                                                 \n",
            " block5_pool (MaxPooling2D)  (None, 8, 8, 512)         0         \n",
            "                                                                 \n",
            "=================================================================\n",
            "Total params: 14,714,688\n",
            "Trainable params: 0\n",
            "Non-trainable params: 14,714,688\n",
            "_________________________________________________________________\n"
          ]
        }
      ]
    },
    {
      "cell_type": "markdown",
      "source": [
        "- We will fine-tune the last three convolutional layers, which mean all layers up to block4_pool should be frozen, and the layers block5_conv1, block5_conv2 and block5_conv3 should be trainable."
      ],
      "metadata": {
        "id": "v99MgqbQRcSS"
      }
    },
    {
      "cell_type": "markdown",
      "source": [
        "### WHy not fine-tune more layers> Why not fine-tune the entire convolutional base?\n",
        "\n",
        "- Earliers layers in the convolutional base encode more-genric, reusable features, whereas layers higher up encode more-specialized feature. It is more useful to fine-tune the more specialized features, because these are the ones that need to be repurposed on our new problem. There would be fast decreasing returns in fine-tuning lower layers.\n",
        "\n",
        "- The more parameters we are training, the more we are at risk of overfitting.\n",
        "\n",
        "- The convolutional base has 15 million paramters, so it would be risky to attempt to train it on our small dataset.\n",
        "\n",
        "\n",
        "- Thus, in this situation, it is a good strategy to fine-tune only the top two or three layers in the convolutional base."
      ],
      "metadata": {
        "id": "o1VReR-jR6ov"
      }
    },
    {
      "cell_type": "code",
      "source": [
        "conv_base.trainable = True\n",
        "\n",
        "set_trainable = False\n",
        "for layer in conv_base.layers:\n",
        "  if layer.name == 'block5_conv1':\n",
        "    set_trainable = True\n",
        "  if set_trainable:\n",
        "    layer.trainable = True\n",
        "  else:\n",
        "    layer.trainable = False"
      ],
      "metadata": {
        "id": "fNEfp7wVLpuK"
      },
      "execution_count": 19,
      "outputs": []
    },
    {
      "cell_type": "markdown",
      "source": [
        "- Now we can begin fine-tuning the network. "
      ],
      "metadata": {
        "id": "cPymWSTy5_NS"
      }
    },
    {
      "cell_type": "code",
      "source": [
        "model.compile(optimizer=\"adam\",\n",
        "              loss = \"sparse_categorical_crossentropy\",\n",
        "              metrics=[\"accuracy\"])"
      ],
      "metadata": {
        "id": "ZvkRUGIYU19q"
      },
      "execution_count": 20,
      "outputs": []
    },
    {
      "cell_type": "code",
      "source": [
        "history = model.fit(\n",
        "    train_generator, \n",
        "    steps_per_epoch=85,\n",
        "    epochs = 30, \n",
        "    validation_data=validation_generator,\n",
        "    validation_steps=11)"
      ],
      "metadata": {
        "colab": {
          "base_uri": "https://localhost:8080/"
        },
        "id": "gaeyD9AQ64N4",
        "outputId": "90f79708-5c13-4a87-8951-e337e011f3b6"
      },
      "execution_count": 21,
      "outputs": [
        {
          "output_type": "stream",
          "name": "stdout",
          "text": [
            "Epoch 1/30\n",
            "85/85 [==============================] - 36s 397ms/step - loss: 2.0474 - accuracy: 0.4763 - val_loss: 0.9456 - val_accuracy: 0.4455\n",
            "Epoch 2/30\n",
            "85/85 [==============================] - 34s 394ms/step - loss: 0.8088 - accuracy: 0.5527 - val_loss: 0.6369 - val_accuracy: 0.7409\n",
            "Epoch 3/30\n",
            "85/85 [==============================] - 33s 387ms/step - loss: 0.5651 - accuracy: 0.8047 - val_loss: 0.5232 - val_accuracy: 0.8318\n",
            "Epoch 4/30\n",
            "85/85 [==============================] - 33s 383ms/step - loss: 0.3433 - accuracy: 0.8811 - val_loss: 0.3348 - val_accuracy: 0.8591\n",
            "Epoch 5/30\n",
            "85/85 [==============================] - 33s 384ms/step - loss: 0.3137 - accuracy: 0.9065 - val_loss: 0.3699 - val_accuracy: 0.8591\n",
            "Epoch 6/30\n",
            "85/85 [==============================] - 34s 395ms/step - loss: 0.9628 - accuracy: 0.8698 - val_loss: 0.5550 - val_accuracy: 0.8500\n",
            "Epoch 7/30\n",
            "85/85 [==============================] - 33s 387ms/step - loss: 0.3179 - accuracy: 0.8988 - val_loss: 0.5736 - val_accuracy: 0.8364\n",
            "Epoch 8/30\n",
            "85/85 [==============================] - 33s 384ms/step - loss: 0.2389 - accuracy: 0.9166 - val_loss: 0.4037 - val_accuracy: 0.8682\n",
            "Epoch 9/30\n",
            "85/85 [==============================] - 33s 381ms/step - loss: 0.2192 - accuracy: 0.9213 - val_loss: 0.3864 - val_accuracy: 0.8636\n",
            "Epoch 10/30\n",
            "85/85 [==============================] - 33s 384ms/step - loss: 0.2065 - accuracy: 0.9284 - val_loss: 0.3661 - val_accuracy: 0.8636\n",
            "Epoch 11/30\n",
            "85/85 [==============================] - 34s 395ms/step - loss: 0.1958 - accuracy: 0.9265 - val_loss: 0.3542 - val_accuracy: 0.8727\n",
            "Epoch 12/30\n",
            "85/85 [==============================] - 35s 413ms/step - loss: 0.1811 - accuracy: 0.9302 - val_loss: 0.5543 - val_accuracy: 0.8318\n",
            "Epoch 13/30\n",
            "85/85 [==============================] - 34s 393ms/step - loss: 0.1941 - accuracy: 0.9260 - val_loss: 0.3420 - val_accuracy: 0.8636\n",
            "Epoch 14/30\n",
            "85/85 [==============================] - 33s 382ms/step - loss: 0.1946 - accuracy: 0.9290 - val_loss: 0.4135 - val_accuracy: 0.8182\n",
            "Epoch 15/30\n",
            "85/85 [==============================] - 33s 387ms/step - loss: 0.1790 - accuracy: 0.9290 - val_loss: 0.2411 - val_accuracy: 0.9045\n",
            "Epoch 16/30\n",
            "85/85 [==============================] - 32s 381ms/step - loss: 0.1520 - accuracy: 0.9385 - val_loss: 0.1879 - val_accuracy: 0.9500\n",
            "Epoch 17/30\n",
            "85/85 [==============================] - 33s 384ms/step - loss: 0.1510 - accuracy: 0.9379 - val_loss: 0.2274 - val_accuracy: 0.9000\n",
            "Epoch 18/30\n",
            "85/85 [==============================] - 33s 383ms/step - loss: 0.1725 - accuracy: 0.9325 - val_loss: 0.2103 - val_accuracy: 0.8773\n",
            "Epoch 19/30\n",
            "85/85 [==============================] - 35s 413ms/step - loss: 0.1420 - accuracy: 0.9343 - val_loss: 0.2171 - val_accuracy: 0.9136\n",
            "Epoch 20/30\n",
            "85/85 [==============================] - 33s 382ms/step - loss: 0.2184 - accuracy: 0.9396 - val_loss: 0.3081 - val_accuracy: 0.8773\n",
            "Epoch 21/30\n",
            "85/85 [==============================] - 32s 378ms/step - loss: 0.2136 - accuracy: 0.9195 - val_loss: 0.4206 - val_accuracy: 0.8545\n",
            "Epoch 22/30\n",
            "85/85 [==============================] - 33s 382ms/step - loss: 0.1506 - accuracy: 0.9432 - val_loss: 0.2374 - val_accuracy: 0.9045\n",
            "Epoch 23/30\n",
            "85/85 [==============================] - 33s 384ms/step - loss: 0.1458 - accuracy: 0.9444 - val_loss: 0.1909 - val_accuracy: 0.9227\n",
            "Epoch 24/30\n",
            "85/85 [==============================] - 33s 384ms/step - loss: 0.1322 - accuracy: 0.9491 - val_loss: 0.4513 - val_accuracy: 0.8545\n",
            "Epoch 25/30\n",
            "85/85 [==============================] - 32s 378ms/step - loss: 0.1151 - accuracy: 0.9562 - val_loss: 0.1547 - val_accuracy: 0.9500\n",
            "Epoch 26/30\n",
            "85/85 [==============================] - 35s 408ms/step - loss: 0.1095 - accuracy: 0.9621 - val_loss: 0.1941 - val_accuracy: 0.9273\n",
            "Epoch 27/30\n",
            "85/85 [==============================] - 32s 378ms/step - loss: 0.1023 - accuracy: 0.9609 - val_loss: 0.2183 - val_accuracy: 0.9227\n",
            "Epoch 28/30\n",
            "85/85 [==============================] - 33s 386ms/step - loss: 0.0630 - accuracy: 0.9787 - val_loss: 0.2734 - val_accuracy: 0.9227\n",
            "Epoch 29/30\n",
            "85/85 [==============================] - 32s 380ms/step - loss: 0.0947 - accuracy: 0.9669 - val_loss: 0.1040 - val_accuracy: 0.9636\n",
            "Epoch 30/30\n",
            "85/85 [==============================] - 32s 377ms/step - loss: 0.0993 - accuracy: 0.9592 - val_loss: 0.1236 - val_accuracy: 0.9636\n"
          ]
        }
      ]
    },
    {
      "cell_type": "code",
      "source": [
        "# Plotting the results\n",
        "\n",
        "import matplotlib.pyplot as plt\n",
        "\n",
        "acc = history.history[\"accuracy\"]\n",
        "val_acc = history.history[\"val_accuracy\"]\n",
        "loss = history.history[\"loss\"]\n",
        "val_loss = history.history['val_loss']\n",
        "\n",
        "epochs = range(1, len(acc) + 1)\n",
        "\n",
        "plt.plot(epochs, acc, 'bo', label='Training acc')\n",
        "plt.plot(epochs, val_acc, 'b', label='validation acc')\n",
        "plt.title(\"Training and validation accuracy\")\n",
        "plt.legend()"
      ],
      "metadata": {
        "colab": {
          "base_uri": "https://localhost:8080/",
          "height": 298
        },
        "id": "-Mdr1tUm7JqR",
        "outputId": "3668bc0b-a3fe-49ef-fcfd-f882d64638a4"
      },
      "execution_count": 22,
      "outputs": [
        {
          "output_type": "execute_result",
          "data": {
            "text/plain": [
              "<matplotlib.legend.Legend at 0x7f663ab26350>"
            ]
          },
          "metadata": {},
          "execution_count": 22
        },
        {
          "output_type": "display_data",
          "data": {
            "text/plain": [
              "<Figure size 432x288 with 1 Axes>"
            ],
            "image/png": "[encoded data removed]"
          },
          "metadata": {
            "needs_background": "light"
          }
        }
      ]
    },
    {
      "cell_type": "code",
      "source": [
        "plt.plot(epochs, loss, 'bo', label='Training loss')\n",
        "plt.plot(epochs, val_loss, 'b', label='Validation loss')\n",
        "plt.title('Training and validation loss')\n",
        "plt.legend()\n",
        "\n",
        "plt.show()"
      ],
      "metadata": {
        "colab": {
          "base_uri": "https://localhost:8080/",
          "height": 281
        },
        "id": "-4iLo86u7Owg",
        "outputId": "dbdda72e-48eb-4b8d-9f1c-a26653a6e1b6"
      },
      "execution_count": 23,
      "outputs": [
        {
          "output_type": "display_data",
          "data": {
            "text/plain": [
              "<Figure size 432x288 with 1 Axes>"
            ],
            "image/png": "[encoded data removed]"
          },
          "metadata": {
            "needs_background": "light"
          }
        }
      ]
    },
    {
      "cell_type": "markdown",
      "source": [
        "- These curves look noisy.\n",
        "- To make them more readable, we can smooth them by replacing every loss and accuracy with exponential moving averages of these quantities."
      ],
      "metadata": {
        "id": "tqs_VimOKcmv"
      }
    },
    {
      "cell_type": "code",
      "source": [
        "def smooth_curve(points, factor= 0.8):\n",
        "  smoothed_points = []\n",
        "  for point in points:\n",
        "    if smoothed_points:\n",
        "      previous = smoothed_points[-1]\n",
        "      smoothed_points.append(previous * factor + point * (1 - factor))\n",
        "    else:\n",
        "      smoothed_points.append(point)\n",
        "  return smoothed_points"
      ],
      "metadata": {
        "id": "3Z7XRIVy945y"
      },
      "execution_count": 41,
      "outputs": []
    },
    {
      "cell_type": "code",
      "source": [
        "plt.plot(epochs, smooth_curve(acc), 'bo', label = 'Smoothed training acc')\n",
        "plt.plot(epochs, smooth_curve(val_acc), 'b', label = 'Smoothed validation acc')\n",
        "plt.title(\"Training and Validation accuracy\")\n",
        "plt.legend()\n",
        "\n",
        "plt.figure()"
      ],
      "metadata": {
        "colab": {
          "base_uri": "https://localhost:8080/",
          "height": 316
        },
        "id": "mp0lQF5pMgpV",
        "outputId": "15b45a8d-04fb-4406-9959-4cbe075627c1"
      },
      "execution_count": 44,
      "outputs": [
        {
          "output_type": "execute_result",
          "data": {
            "text/plain": [
              "<Figure size 432x288 with 0 Axes>"
            ]
          },
          "metadata": {},
          "execution_count": 44
        },
        {
          "output_type": "display_data",
          "data": {
            "text/plain": [
              "<Figure size 432x288 with 1 Axes>"
            ],
            "image/png": "[encoded data removed]"
          },
          "metadata": {
            "needs_background": "light"
          }
        },
        {
          "output_type": "display_data",
          "data": {
            "text/plain": [
              "<Figure size 432x288 with 0 Axes>"
            ]
          },
          "metadata": {}
        }
      ]
    },
    {
      "cell_type": "code",
      "source": [
        "plt.plot(epochs, smooth_curve(loss), 'bo', label = 'Smoothed training loss')\n",
        "plt.plot(epochs, smooth_curve(val_loss), 'b', label = 'Smoothed validation loss')\n",
        "plt.title(\"Training and Validation loss\")\n",
        "plt.legend()\n",
        "\n",
        "plt.show()"
      ],
      "metadata": {
        "colab": {
          "base_uri": "https://localhost:8080/",
          "height": 281
        },
        "id": "wT0a4akMMgXQ",
        "outputId": "f2d5f9d6-bee1-4381-9991-3641f58bfcda"
      },
      "execution_count": 45,
      "outputs": [
        {
          "output_type": "display_data",
          "data": {
            "text/plain": [
              "<Figure size 432x288 with 1 Axes>"
            ],
            "image/png": "[encoded data removed]"
          },
          "metadata": {
            "needs_background": "light"
          }
        }
      ]
    },
    {
      "cell_type": "markdown",
      "source": [
        "- We can now finally evaluate this model on the test data:"
      ],
      "metadata": {
        "id": "C0TApwRePWsS"
      }
    },
    {
      "cell_type": "code",
      "source": [
        "test_datagen = ImageDataGenerator(rescale=1./255)\n",
        "\n",
        "test_generator = test_datagen.flow_from_directory(\n",
        "    test_dir,\n",
        "    target_size=(256,256),\n",
        "    batch_size=20,\n",
        "    classes = ['Potato___Early_blight', 'Potato___healthy', 'Potato___Late_blight'],\n",
        "    class_mode = 'sparse')"
      ],
      "metadata": {
        "colab": {
          "base_uri": "https://localhost:8080/"
        },
        "id": "U9s6Q132Oegz",
        "outputId": "6c97d0c3-4645-4546-a500-8ac1b823d5f8"
      },
      "execution_count": 47,
      "outputs": [
        {
          "output_type": "stream",
          "name": "stdout",
          "text": [
            "Found 226 images belonging to 3 classes.\n"
          ]
        }
      ]
    },
    {
      "cell_type": "code",
      "source": [
        "test_loss, test_acc = model.evaluate(test_generator, steps = 11)"
      ],
      "metadata": {
        "colab": {
          "base_uri": "https://localhost:8080/"
        },
        "id": "aHhz6B13PnSY",
        "outputId": "17d0a56a-74d2-42b3-c043-0048c5de75ef"
      },
      "execution_count": 48,
      "outputs": [
        {
          "output_type": "stream",
          "name": "stdout",
          "text": [
            "11/11 [==============================] - 2s 150ms/step - loss: 0.1732 - accuracy: 0.9455\n"
          ]
        }
      ]
    },
    {
      "cell_type": "code",
      "source": [
        "print(\"test acc:\", test_acc)"
      ],
      "metadata": {
        "colab": {
          "base_uri": "https://localhost:8080/"
        },
        "id": "YIsxEfJuPpMc",
        "outputId": "3da2108a-3738-4719-c7ea-779b83c72259"
      },
      "execution_count": 49,
      "outputs": [
        {
          "output_type": "stream",
          "name": "stdout",
          "text": [
            "test acc: 0.9454545378684998\n"
          ]
        }
      ]
    },
    {
      "cell_type": "markdown",
      "source": [
        "### Saving the Model\n"
      ],
      "metadata": {
        "id": "1TSt2-JRQdeq"
      }
    },
    {
      "cell_type": "code",
      "source": [
        "import os"
      ],
      "metadata": {
        "id": "f1I-8yyJREgQ"
      },
      "execution_count": 51,
      "outputs": []
    },
    {
      "cell_type": "code",
      "source": [
        "work_dir = \"/content/drive/MyDrive/Potato-Disease-Classification/training/\"\n",
        "os.chdir(work_dir)\n",
        "os.getcwd()"
      ],
      "metadata": {
        "colab": {
          "base_uri": "https://localhost:8080/",
          "height": 35
        },
        "id": "Sn9_CW98RGIE",
        "outputId": "987a5a06-6c0f-434d-eac2-55bfdd8a4666"
      },
      "execution_count": 69,
      "outputs": [
        {
          "output_type": "execute_result",
          "data": {
            "text/plain": [
              "'/content/drive/MyDrive/Potato-Disease-Classification/training'"
            ],
            "application/vnd.google.colaboratory.intrinsic+json": {
              "type": "string"
            }
          },
          "metadata": {},
          "execution_count": 69
        }
      ]
    },
    {
      "cell_type": "code",
      "source": [
        "model_version=max([int(i) for i in os.listdir(\"../transferLearningModels\") + [0]])+1\n",
        "model.save(f\"../transferLearningModels/{model_version}\")"
      ],
      "metadata": {
        "colab": {
          "base_uri": "https://localhost:8080/"
        },
        "id": "OdPdRXCwTpB6",
        "outputId": "ea22fe59-2f48-4197-b9cb-8521a685d71e"
      },
      "execution_count": 71,
      "outputs": [
        {
          "output_type": "stream",
          "name": "stderr",
          "text": [
            "WARNING:absl:Found untraced functions such as _jit_compiled_convolution_op, _jit_compiled_convolution_op, _jit_compiled_convolution_op, _jit_compiled_convolution_op, _jit_compiled_convolution_op while saving (showing 5 of 13). These functions will not be directly callable after loading.\n"
          ]
        }
      ]
    },
    {
      "cell_type": "markdown",
      "source": [
        "### Wrapping up\n",
        "\n",
        "- On a small dataset, overfitting will be the main issue. Data Augmentation is a powerful way to fight overfitting when we are working with image data.\n",
        "\n",
        "- It is easy to reuse an existing convnet on a new dataste via feature extraction. This is a valuable technique for working with small image datasets.\n",
        "\n",
        "- As a complement to feature extraction, we can use fine-tuning, which adapts to a new problem some of the representations previoulsy learned by an existing model. This pushes performance a bit further."
      ],
      "metadata": {
        "id": "k3VY0dRCWR4A"
      }
    },
    {
      "cell_type": "code",
      "source": [],
      "metadata": {
        "id": "s4_-L8BhUiGY"
      },
      "execution_count": null,
      "outputs": []
    }
  ]
}