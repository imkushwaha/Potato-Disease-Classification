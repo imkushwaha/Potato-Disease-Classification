{
 "cells": [
  {
   "cell_type": "code",
   "execution_count": 1,
   "id": "166cdd4b",
   "metadata": {},
   "outputs": [],
   "source": [
    "import tensorflow as tf\n",
    "from tensorflow.keras import models, layers\n",
    "import matplotlib.pyplot as plt\n",
    "from IPython.display import HTML"
   ]
  },
  {
   "cell_type": "code",
   "execution_count": 2,
   "id": "1c6a053e",
   "metadata": {},
   "outputs": [],
   "source": [
    "IMAGE_SIZE = 256\n",
    "CHANNELS = 3"
   ]
  },
  {
   "cell_type": "code",
   "execution_count": 3,
   "id": "a732a2da",
   "metadata": {},
   "outputs": [
    {
     "name": "stdout",
     "output_type": "stream",
     "text": [
      "Found 1506 images belonging to 3 classes.\n"
     ]
    }
   ],
   "source": [
    "from tensorflow.keras.preprocessing.image import ImageDataGenerator\n",
    "\n",
    "train_datagen = ImageDataGenerator(\n",
    "        rescale=1./255,\n",
    "        rotation_range=10,\n",
    "        horizontal_flip=True\n",
    ")\n",
    "train_generator = train_datagen.flow_from_directory(\n",
    "        'PlantVillageDir/train',\n",
    "        target_size=(IMAGE_SIZE,IMAGE_SIZE),\n",
    "        batch_size=32,\n",
    "        class_mode=\"sparse\")"
   ]
  },
  {
   "cell_type": "code",
   "execution_count": 4,
   "id": "894e5d42",
   "metadata": {},
   "outputs": [
    {
     "data": {
      "text/plain": [
       "{'Potato___Early_blight': 0, 'Potato___Late_blight': 1, 'Potato___healthy': 2}"
      ]
     },
     "execution_count": 4,
     "metadata": {},
     "output_type": "execute_result"
    }
   ],
   "source": [
    "train_generator.class_indices"
   ]
  },
  {
   "cell_type": "code",
   "execution_count": 5,
   "id": "18940d72",
   "metadata": {},
   "outputs": [
    {
     "data": {
      "text/plain": [
       "['Potato___Early_blight', 'Potato___Late_blight', 'Potato___healthy']"
      ]
     },
     "execution_count": 5,
     "metadata": {},
     "output_type": "execute_result"
    }
   ],
   "source": [
    "class_names = list(train_generator.class_indices.keys())\n",
    "class_names"
   ]
  },
  {
   "cell_type": "code",
   "execution_count": 11,
   "id": "96554ead",
   "metadata": {},
   "outputs": [
    {
     "name": "stdout",
     "output_type": "stream",
     "text": [
      "[[[0.69807744 0.62356764 0.6392539 ]\n",
      "  [0.70587903 0.63136923 0.6470555 ]\n",
      "  [0.70197314 0.62746334 0.6431496 ]\n",
      "  ...\n",
      "  [0.69411767 0.6313726  0.6313726 ]\n",
      "  [0.69411767 0.6313726  0.6313726 ]\n",
      "  [0.69411767 0.6313726  0.6313726 ]]\n",
      "\n",
      " [[0.6970439  0.6225341  0.63822037]\n",
      "  [0.7051874  0.6306776  0.64636385]\n",
      "  [0.70232403 0.62781423 0.6435005 ]\n",
      "  ...\n",
      "  [0.69411767 0.6313726  0.6313726 ]\n",
      "  [0.69411767 0.6313726  0.6313726 ]\n",
      "  [0.69422215 0.63147706 0.63147706]]\n",
      "\n",
      " [[0.6959913  0.6214815  0.63716775]\n",
      "  [0.70448565 0.62997586 0.6456621 ]\n",
      "  [0.7026749  0.6281651  0.6438514 ]\n",
      "  ...\n",
      "  [0.7038344  0.6410893  0.6410893 ]\n",
      "  [0.70488703 0.64214194 0.64214194]\n",
      "  [0.7059397  0.6431946  0.6431946 ]]\n",
      "\n",
      " ...\n",
      "\n",
      " [[0.559344   0.44169688 0.44954002]\n",
      "  [0.5547825  0.43713543 0.44497856]\n",
      "  [0.5502211  0.43257397 0.4404171 ]\n",
      "  ...\n",
      "  [0.5241058  0.40645874 0.41430187]\n",
      "  [0.5694729  0.45182583 0.45966896]\n",
      "  [0.6331173  0.5154702  0.52331334]]\n",
      "\n",
      " [[0.521139   0.40349194 0.41133508]\n",
      "  [0.5228934  0.40524638 0.4130895 ]\n",
      "  [0.52464783 0.40700078 0.41484392]\n",
      "  ...\n",
      "  [0.5244567  0.40680963 0.41465276]\n",
      "  [0.5571921  0.43954498 0.4473881 ]\n",
      "  [0.63978404 0.5221369  0.52998006]]\n",
      "\n",
      " [[0.5454469  0.42779976 0.4356429 ]\n",
      "  [0.5496574  0.43201035 0.4398535 ]\n",
      "  [0.553868   0.4362209  0.44406405]\n",
      "  ...\n",
      "  [0.5248076  0.4071605  0.41500363]\n",
      "  [0.5449112  0.42726415 0.4351073 ]\n",
      "  [0.6464507  0.52880365 0.5366468 ]]]\n",
      "(32, 256, 256, 3)\n",
      "1.0\n"
     ]
    }
   ],
   "source": [
    "count=0\n",
    "for image_batch, label_batch in train_generator:\n",
    "    print(image_batch[0])\n",
    "    print(image_batch.shape)\n",
    "    print(label_batch[0])\n",
    "    break"
   ]
  },
  {
   "cell_type": "code",
   "execution_count": 12,
   "id": "066f25d4",
   "metadata": {},
   "outputs": [
    {
     "name": "stdout",
     "output_type": "stream",
     "text": [
      "Found 430 images belonging to 3 classes.\n"
     ]
    }
   ],
   "source": [
    "validation_datagen = ImageDataGenerator(\n",
    "        rescale=1./255,\n",
    "        rotation_range=10,\n",
    "        horizontal_flip=True)\n",
    "validation_generator = validation_datagen.flow_from_directory(\n",
    "        'PlantVillageDir/val',\n",
    "        target_size=(IMAGE_SIZE,IMAGE_SIZE),\n",
    "        batch_size=32,\n",
    "        class_mode=\"sparse\"\n",
    ")"
   ]
  },
  {
   "cell_type": "code",
   "execution_count": 13,
   "id": "6c056031",
   "metadata": {},
   "outputs": [
    {
     "name": "stdout",
     "output_type": "stream",
     "text": [
      "Found 216 images belonging to 3 classes.\n"
     ]
    }
   ],
   "source": [
    "test_datagen = ImageDataGenerator(\n",
    "        rescale=1./255,\n",
    "        rotation_range=10,\n",
    "        horizontal_flip=True)\n",
    "\n",
    "test_generator = test_datagen.flow_from_directory(\n",
    "        'PlantVillageDir/test',\n",
    "        target_size=(IMAGE_SIZE,IMAGE_SIZE),\n",
    "        batch_size=32,\n",
    "        class_mode=\"sparse\"\n",
    ")"
   ]
  },
  {
   "cell_type": "markdown",
   "id": "98def81f",
   "metadata": {},
   "source": [
    "### Building the Model"
   ]
  },
  {
   "cell_type": "code",
   "execution_count": 14,
   "id": "4c90307c",
   "metadata": {},
   "outputs": [],
   "source": [
    "input_shape = (IMAGE_SIZE, IMAGE_SIZE, CHANNELS)\n",
    "n_classes = 3\n",
    "\n",
    "model = models.Sequential([\n",
    "    layers.InputLayer(input_shape=input_shape),\n",
    "    layers.Conv2D(32, kernel_size = (3,3), activation='relu'),\n",
    "    layers.MaxPooling2D((2, 2)),\n",
    "    layers.Conv2D(64,  kernel_size = (3,3), activation='relu'),\n",
    "    layers.MaxPooling2D((2, 2)),\n",
    "    layers.Conv2D(64,  kernel_size = (3,3), activation='relu'),\n",
    "    layers.MaxPooling2D((2, 2)),\n",
    "    layers.Conv2D(64, (3, 3), activation='relu'),\n",
    "    layers.MaxPooling2D((2, 2)),\n",
    "    layers.Conv2D(64, (3, 3), activation='relu'),\n",
    "    layers.MaxPooling2D((2, 2)),\n",
    "    layers.Conv2D(64, (3, 3), activation='relu'),\n",
    "    layers.MaxPooling2D((2, 2)),\n",
    "    layers.Flatten(),\n",
    "    layers.Dense(64, activation='relu'),\n",
    "    layers.Dense(n_classes, activation='softmax'),\n",
    "])"
   ]
  },
  {
   "cell_type": "code",
   "execution_count": 15,
   "id": "3af55ae0",
   "metadata": {},
   "outputs": [
    {
     "name": "stdout",
     "output_type": "stream",
     "text": [
      "Model: \"sequential\"\n",
      "_________________________________________________________________\n",
      "Layer (type)                 Output Shape              Param #   \n",
      "=================================================================\n",
      "conv2d (Conv2D)              (None, 254, 254, 32)      896       \n",
      "_________________________________________________________________\n",
      "max_pooling2d (MaxPooling2D) (None, 127, 127, 32)      0         \n",
      "_________________________________________________________________\n",
      "conv2d_1 (Conv2D)            (None, 125, 125, 64)      18496     \n",
      "_________________________________________________________________\n",
      "max_pooling2d_1 (MaxPooling2 (None, 62, 62, 64)        0         \n",
      "_________________________________________________________________\n",
      "conv2d_2 (Conv2D)            (None, 60, 60, 64)        36928     \n",
      "_________________________________________________________________\n",
      "max_pooling2d_2 (MaxPooling2 (None, 30, 30, 64)        0         \n",
      "_________________________________________________________________\n",
      "conv2d_3 (Conv2D)            (None, 28, 28, 64)        36928     \n",
      "_________________________________________________________________\n",
      "max_pooling2d_3 (MaxPooling2 (None, 14, 14, 64)        0         \n",
      "_________________________________________________________________\n",
      "conv2d_4 (Conv2D)            (None, 12, 12, 64)        36928     \n",
      "_________________________________________________________________\n",
      "max_pooling2d_4 (MaxPooling2 (None, 6, 6, 64)          0         \n",
      "_________________________________________________________________\n",
      "conv2d_5 (Conv2D)            (None, 4, 4, 64)          36928     \n",
      "_________________________________________________________________\n",
      "max_pooling2d_5 (MaxPooling2 (None, 2, 2, 64)          0         \n",
      "_________________________________________________________________\n",
      "flatten (Flatten)            (None, 256)               0         \n",
      "_________________________________________________________________\n",
      "dense (Dense)                (None, 64)                16448     \n",
      "_________________________________________________________________\n",
      "dense_1 (Dense)              (None, 3)                 195       \n",
      "=================================================================\n",
      "Total params: 183,747\n",
      "Trainable params: 183,747\n",
      "Non-trainable params: 0\n",
      "_________________________________________________________________\n"
     ]
    }
   ],
   "source": [
    "model.summary()"
   ]
  },
  {
   "cell_type": "markdown",
   "id": "09c48df2",
   "metadata": {},
   "source": [
    "### Compiling the Model"
   ]
  },
  {
   "cell_type": "code",
   "execution_count": 16,
   "id": "95d4e9d7",
   "metadata": {},
   "outputs": [],
   "source": [
    "model.compile(\n",
    "    optimizer='adam',\n",
    "    loss=tf.keras.losses.SparseCategoricalCrossentropy(from_logits=False),\n",
    "    metrics=['accuracy']\n",
    ")"
   ]
  },
  {
   "cell_type": "code",
   "execution_count": 18,
   "id": "4f23e836",
   "metadata": {},
   "outputs": [
    {
     "name": "stdout",
     "output_type": "stream",
     "text": [
      "Epoch 1/20\n",
      "47/47 [==============================] - 63s 1s/step - loss: 0.9221 - accuracy: 0.4986 - val_loss: 0.8733 - val_accuracy: 0.5529\n",
      "Epoch 2/20\n",
      "47/47 [==============================] - 58s 1s/step - loss: 0.7733 - accuracy: 0.6594 - val_loss: 0.5669 - val_accuracy: 0.7644\n",
      "Epoch 3/20\n",
      "47/47 [==============================] - 59s 1s/step - loss: 0.4627 - accuracy: 0.8005 - val_loss: 0.3609 - val_accuracy: 0.8558\n",
      "Epoch 4/20\n",
      "47/47 [==============================] - 61s 1s/step - loss: 0.3796 - accuracy: 0.8433 - val_loss: 0.3251 - val_accuracy: 0.8918\n",
      "Epoch 5/20\n",
      "47/47 [==============================] - 60s 1s/step - loss: 0.2827 - accuracy: 0.8901 - val_loss: 0.3300 - val_accuracy: 0.8582\n",
      "Epoch 6/20\n",
      "47/47 [==============================] - 60s 1s/step - loss: 0.2351 - accuracy: 0.8976 - val_loss: 0.4156 - val_accuracy: 0.8438\n",
      "Epoch 7/20\n",
      "47/47 [==============================] - 72s 2s/step - loss: 0.1913 - accuracy: 0.9281 - val_loss: 0.2418 - val_accuracy: 0.9135\n",
      "Epoch 8/20\n",
      "47/47 [==============================] - 69s 1s/step - loss: 0.1606 - accuracy: 0.9335 - val_loss: 0.1955 - val_accuracy: 0.9303\n",
      "Epoch 9/20\n",
      "47/47 [==============================] - 69s 1s/step - loss: 0.2010 - accuracy: 0.9233 - val_loss: 0.1951 - val_accuracy: 0.9351\n",
      "Epoch 10/20\n",
      "47/47 [==============================] - 71s 1s/step - loss: 0.1211 - accuracy: 0.9548 - val_loss: 0.3751 - val_accuracy: 0.8846\n",
      "Epoch 11/20\n",
      "47/47 [==============================] - 69s 1s/step - loss: 0.1513 - accuracy: 0.9410 - val_loss: 0.1672 - val_accuracy: 0.9399\n",
      "Epoch 12/20\n",
      "47/47 [==============================] - 63s 1s/step - loss: 0.0819 - accuracy: 0.9681 - val_loss: 0.0864 - val_accuracy: 0.9688\n",
      "Epoch 13/20\n",
      "47/47 [==============================] - 58s 1s/step - loss: 0.0840 - accuracy: 0.9742 - val_loss: 0.1964 - val_accuracy: 0.9375\n",
      "Epoch 14/20\n",
      "47/47 [==============================] - 71s 2s/step - loss: 0.2339 - accuracy: 0.9125 - val_loss: 0.1776 - val_accuracy: 0.9303\n",
      "Epoch 15/20\n",
      "47/47 [==============================] - 72s 2s/step - loss: 0.1270 - accuracy: 0.9600 - val_loss: 0.1530 - val_accuracy: 0.9351\n",
      "Epoch 16/20\n",
      "47/47 [==============================] - 70s 1s/step - loss: 0.1037 - accuracy: 0.9634 - val_loss: 0.1506 - val_accuracy: 0.9375\n",
      "Epoch 17/20\n",
      "47/47 [==============================] - 65s 1s/step - loss: 0.0817 - accuracy: 0.9708 - val_loss: 0.1026 - val_accuracy: 0.9615\n",
      "Epoch 18/20\n",
      "47/47 [==============================] - 69s 1s/step - loss: 0.0584 - accuracy: 0.9756 - val_loss: 0.0840 - val_accuracy: 0.9663\n",
      "Epoch 19/20\n",
      "47/47 [==============================] - 69s 1s/step - loss: 0.0591 - accuracy: 0.9803 - val_loss: 0.3285 - val_accuracy: 0.8966\n",
      "Epoch 20/20\n",
      "47/47 [==============================] - 68s 1s/step - loss: 0.0771 - accuracy: 0.9681 - val_loss: 0.0891 - val_accuracy: 0.9736\n"
     ]
    }
   ],
   "source": [
    "history = model.fit(\n",
    "    train_generator,\n",
    "    steps_per_epoch=47,\n",
    "    batch_size=32,\n",
    "    validation_data=validation_generator,\n",
    "    validation_steps=13,\n",
    "    verbose=1,\n",
    "    epochs=20,\n",
    ")"
   ]
  },
  {
   "cell_type": "code",
   "execution_count": 19,
   "id": "8c2ba3bc",
   "metadata": {},
   "outputs": [
    {
     "name": "stdout",
     "output_type": "stream",
     "text": [
      "7/7 [==============================] - 3s 433ms/step - loss: 0.0995 - accuracy: 0.9815\n"
     ]
    }
   ],
   "source": [
    "scores = model.evaluate(test_generator)"
   ]
  },
  {
   "cell_type": "code",
   "execution_count": 20,
   "id": "3d0314e1",
   "metadata": {},
   "outputs": [
    {
     "data": {
      "text/plain": [
       "[0.09950443357229233, 0.9814814925193787]"
      ]
     },
     "execution_count": 20,
     "metadata": {},
     "output_type": "execute_result"
    }
   ],
   "source": [
    "scores"
   ]
  },
  {
   "cell_type": "markdown",
   "id": "283c55ab",
   "metadata": {},
   "source": [
    "#### Saving the Model\n",
    "\n",
    "- Save model in h5 format so that there is just one file and we can upload that to GCP conveniently"
   ]
  },
  {
   "cell_type": "code",
   "execution_count": 21,
   "id": "99fa7dfe",
   "metadata": {},
   "outputs": [],
   "source": [
    "model.save(\"../potatoes.h5\")"
   ]
  },
  {
   "cell_type": "code",
   "execution_count": null,
   "id": "dce7de17",
   "metadata": {},
   "outputs": [],
   "source": []
  }
 ],
 "metadata": {
  "kernelspec": {
   "display_name": "Python 3 (ipykernel)",
   "language": "python",
   "name": "python3"
  },
  "language_info": {
   "codemirror_mode": {
    "name": "ipython",
    "version": 3
   },
   "file_extension": ".py",
   "mimetype": "text/x-python",
   "name": "python",
   "nbconvert_exporter": "python",
   "pygments_lexer": "ipython3",
   "version": "3.7.13"
  }
 },
 "nbformat": 4,
 "nbformat_minor": 5
}
